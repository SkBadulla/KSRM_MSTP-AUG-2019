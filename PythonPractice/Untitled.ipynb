{
 "cells": [
  {
   "cell_type": "code",
   "execution_count": 6,
   "metadata": {},
   "outputs": [
    {
     "name": "stdout",
     "output_type": "stream",
     "text": [
      "2\n",
      "hai ioefguoue&\n",
      "ibj jpfghvpvf&\n",
      "Hai\n",
      "Ibj\n"
     ]
    }
   ],
   "source": [
    "# Encryption\n",
    "## 2\n",
    "## Hai -->Ibj\n",
    "\n",
    "n = int(input())\n",
    "for i in range(n):\n",
    "    s = input()\n",
    "    string = \"\"\n",
    "    for ch in s:\n",
    "        if ch.isalpha():\n",
    "            string += chr(ord(ch)+1)\n",
    "        else:\n",
    "            string += ch\n",
    "    print(string)"
   ]
  },
  {
   "cell_type": "code",
   "execution_count": 3,
   "metadata": {},
   "outputs": [
    {
     "data": {
      "text/plain": [
       "97"
      ]
     },
     "execution_count": 3,
     "metadata": {},
     "output_type": "execute_result"
    }
   ],
   "source": [
    "ord(\"a\")"
   ]
  },
  {
   "cell_type": "code",
   "execution_count": 2,
   "metadata": {},
   "outputs": [
    {
     "name": "stdout",
     "output_type": "stream",
     "text": [
      "2\n",
      "-5 9 8 -10 -78 -100 10\n",
      "166\n",
      "-89 9 81 78 -99 -1 -989\n",
      "1010\n"
     ]
    }
   ],
   "source": [
    "# Additive Inverse\n",
    "## 2\n",
    "## input1: -5 9 8 -10  -78 -100 10 ==>166\n",
    "## input2: -89 9 81 78 -99 -1 -989 ==>1010\n",
    "\n",
    "n = int(input())\n",
    "for i in range(n):\n",
    "    sm=0\n",
    "    s = input().split()\n",
    "    for j in s:\n",
    "        sm += int(j)*-1\n",
    "    print(sm)\n",
    "    "
   ]
  },
  {
   "cell_type": "code",
   "execution_count": 7,
   "metadata": {},
   "outputs": [
    {
     "name": "stdout",
     "output_type": "stream",
     "text": [
      "2\n",
      "-5 9 8 -10  -78 -100 10\n",
      "166\n",
      "22\n",
      "-22\n"
     ]
    }
   ],
   "source": [
    "n = int(input())\n",
    "\n",
    "for i in range(n):\n",
    "    sm = 0  \n",
    "    l = list(map(int,input().split()))\n",
    "    for j in l:\n",
    "        if j>0:\n",
    "            sm -= j\n",
    "        else:\n",
    "            sm += abs(j)\n",
    "    print(sm)\n"
   ]
  },
  {
   "cell_type": "code",
   "execution_count": null,
   "metadata": {},
   "outputs": [],
   "source": []
  }
 ],
 "metadata": {
  "kernelspec": {
   "display_name": "Python 3",
   "language": "python",
   "name": "python3"
  },
  "language_info": {
   "codemirror_mode": {
    "name": "ipython",
    "version": 3
   },
   "file_extension": ".py",
   "mimetype": "text/x-python",
   "name": "python",
   "nbconvert_exporter": "python",
   "pygments_lexer": "ipython3",
   "version": "3.7.3"
  }
 },
 "nbformat": 4,
 "nbformat_minor": 2
}
