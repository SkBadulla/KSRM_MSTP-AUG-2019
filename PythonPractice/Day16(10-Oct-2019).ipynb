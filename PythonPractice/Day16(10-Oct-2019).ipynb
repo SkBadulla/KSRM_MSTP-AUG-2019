{
 "cells": [
  {
   "cell_type": "markdown",
   "metadata": {},
   "source": [
    "### Day Objectives\n",
    "- Encryption and Decryption using dictionary "
   ]
  },
  {
   "cell_type": "code",
   "execution_count": 10,
   "metadata": {},
   "outputs": [
    {
     "data": {
      "text/plain": [
       "{'A': 'E',\n",
       " 'B': 'F',\n",
       " 'C': 'G',\n",
       " 'D': 'H',\n",
       " 'E': 'I',\n",
       " 'F': 'J',\n",
       " 'G': 'K',\n",
       " 'H': 'L',\n",
       " 'I': 'M',\n",
       " 'J': 'N',\n",
       " 'K': 'O',\n",
       " 'L': 'P',\n",
       " 'M': 'Q',\n",
       " 'N': 'R',\n",
       " 'O': 'S',\n",
       " 'P': 'T',\n",
       " 'Q': 'U',\n",
       " 'R': 'V',\n",
       " 'S': 'W',\n",
       " 'T': 'X',\n",
       " 'U': 'Y',\n",
       " 'V': 'Z',\n",
       " 'W': 'A',\n",
       " 'X': 'B',\n",
       " 'Y': 'C',\n",
       " 'Z': 'D'}"
      ]
     },
     "execution_count": 10,
     "metadata": {},
     "output_type": "execute_result"
    }
   ],
   "source": [
    "encdec = {}\n",
    "for i in range(65,91):\n",
    "    if i >86:\n",
    "        encdec[chr(i)]=chr(i-22)\n",
    "    else:\n",
    "        encdec[chr(i)]=chr(i+4)\n",
    "encdec"
   ]
  },
  {
   "cell_type": "code",
   "execution_count": 11,
   "metadata": {},
   "outputs": [
    {
     "name": "stdout",
     "output_type": "stream",
     "text": [
      "BADU FEHY\n"
     ]
    }
   ],
   "source": [
    "omsg = \"BADU\"\n",
    "encmsg = ''\n",
    "for ch in omsg:\n",
    "    encmsg += encdec[ch]\n",
    "print(omsg,encmsg)\n",
    "    \n",
    "\n"
   ]
  },
  {
   "cell_type": "code",
   "execution_count": 5,
   "metadata": {},
   "outputs": [
    {
     "data": {
      "text/plain": [
       "87"
      ]
     },
     "execution_count": 5,
     "metadata": {},
     "output_type": "execute_result"
    }
   ],
   "source": [
    "ord('W')"
   ]
  },
  {
   "cell_type": "code",
   "execution_count": 6,
   "metadata": {},
   "outputs": [
    {
     "data": {
      "text/plain": [
       "65"
      ]
     },
     "execution_count": 6,
     "metadata": {},
     "output_type": "execute_result"
    }
   ],
   "source": [
    "87-22\n"
   ]
  },
  {
   "cell_type": "code",
   "execution_count": 13,
   "metadata": {},
   "outputs": [
    {
     "data": {
      "text/plain": [
       "{'E': 'A',\n",
       " 'F': 'B',\n",
       " 'G': 'C',\n",
       " 'H': 'D',\n",
       " 'I': 'E',\n",
       " 'J': 'F',\n",
       " 'K': 'G',\n",
       " 'L': 'H',\n",
       " 'M': 'I',\n",
       " 'N': 'J',\n",
       " 'O': 'K',\n",
       " 'P': 'L',\n",
       " 'Q': 'M',\n",
       " 'R': 'N',\n",
       " 'S': 'O',\n",
       " 'T': 'P',\n",
       " 'U': 'Q',\n",
       " 'V': 'R',\n",
       " 'W': 'S',\n",
       " 'X': 'T',\n",
       " 'Y': 'U',\n",
       " 'Z': 'V',\n",
       " 'A': 'W',\n",
       " 'B': 'X',\n",
       " 'C': 'Y',\n",
       " 'D': 'Z'}"
      ]
     },
     "execution_count": 13,
     "metadata": {},
     "output_type": "execute_result"
    }
   ],
   "source": [
    "decdic = {}\n",
    "for i in range(65,91):\n",
    "    if i > 86:\n",
    "        decdic[chr(i-22)]=chr(i)\n",
    "    else:\n",
    "        decdic[chr(i+4)]=chr(i)\n",
    "decdic"
   ]
  },
  {
   "cell_type": "code",
   "execution_count": 15,
   "metadata": {},
   "outputs": [
    {
     "name": "stdout",
     "output_type": "stream",
     "text": [
      "BADU FEHY BADU\n"
     ]
    }
   ],
   "source": [
    "decmsg = ''\n",
    "for i in encmsg:\n",
    "    decmsg+= decdic[i]\n",
    "print(omsg,encmsg,decmsg)"
   ]
  },
  {
   "cell_type": "code",
   "execution_count": 16,
   "metadata": {},
   "outputs": [
    {
     "data": {
      "text/plain": [
       "{'a': 'e',\n",
       " 'b': 'f',\n",
       " 'c': 'g',\n",
       " 'd': 'h',\n",
       " 'e': 'i',\n",
       " 'f': 'j',\n",
       " 'g': 'k',\n",
       " 'h': 'l',\n",
       " 'i': 'm',\n",
       " 'j': 'n',\n",
       " 'k': 'o',\n",
       " 'l': 'p',\n",
       " 'm': 'q',\n",
       " 'n': 'r',\n",
       " 'o': 's',\n",
       " 'p': 't',\n",
       " 'q': 'u',\n",
       " 'r': 'v',\n",
       " 's': 'w',\n",
       " 't': 'x',\n",
       " 'u': 'y',\n",
       " 'v': 'z',\n",
       " 'w': 'a',\n",
       " 'x': 'b',\n",
       " 'y': 'c',\n",
       " 'z': 'd'}"
      ]
     },
     "execution_count": 16,
     "metadata": {},
     "output_type": "execute_result"
    }
   ],
   "source": [
    "encdec1 = {}\n",
    "for i in range(97,123):\n",
    "    if i >118:\n",
    "        encdec1[chr(i)]=chr(i-22)\n",
    "    else:\n",
    "        encdec1[chr(i)]=chr(i+4)\n",
    "encdec1"
   ]
  },
  {
   "cell_type": "code",
   "execution_count": 18,
   "metadata": {},
   "outputs": [
    {
     "name": "stdout",
     "output_type": "stream",
     "text": [
      "badulla fehyppe\n"
     ]
    }
   ],
   "source": [
    "m=\"badulla\"\n",
    "n=\"\"\n",
    "for i in m:\n",
    "    n+=encdec1[i]\n",
    "print(m,n)"
   ]
  },
  {
   "cell_type": "code",
   "execution_count": 19,
   "metadata": {},
   "outputs": [
    {
     "data": {
      "text/plain": [
       "{'e': 'a',\n",
       " 'f': 'b',\n",
       " 'g': 'c',\n",
       " 'h': 'd',\n",
       " 'i': 'e',\n",
       " 'j': 'f',\n",
       " 'k': 'g',\n",
       " 'l': 'h',\n",
       " 'm': 'i',\n",
       " 'n': 'j',\n",
       " 'o': 'k',\n",
       " 'p': 'l',\n",
       " 'q': 'm',\n",
       " 'r': 'n',\n",
       " 's': 'o',\n",
       " 't': 'p',\n",
       " 'u': 'q',\n",
       " 'v': 'r',\n",
       " 'w': 's',\n",
       " 'x': 't',\n",
       " 'y': 'u',\n",
       " 'z': 'v',\n",
       " 'a': 'w',\n",
       " 'b': 'x',\n",
       " 'c': 'y',\n",
       " 'd': 'z'}"
      ]
     },
     "execution_count": 19,
     "metadata": {},
     "output_type": "execute_result"
    }
   ],
   "source": [
    "encdec2 = {}\n",
    "for i in range(97,123):\n",
    "    if i >118:\n",
    "        encdec2[chr(i-22)]=chr(i)\n",
    "    else:\n",
    "        encdec2[chr(i+4)]=chr(i)\n",
    "encdec2"
   ]
  },
  {
   "cell_type": "code",
   "execution_count": 21,
   "metadata": {},
   "outputs": [
    {
     "name": "stdout",
     "output_type": "stream",
     "text": [
      "badulla fehyppe badulla\n"
     ]
    }
   ],
   "source": [
    "d=\"\"\n",
    "for i in n:\n",
    "    d+=encdec2[i]\n",
    "print(m,n,d)\n",
    "    "
   ]
  },
  {
   "cell_type": "code",
   "execution_count": 16,
   "metadata": {},
   "outputs": [],
   "source": [
    "numenc={}\n",
    "for i in range(0,10):\n",
    "    if i>4:\n",
    "        numenc[str(i)]=str(i-5)\n",
    "    else:\n",
    "        numenc[str(i)]=str(i+5)"
   ]
  },
  {
   "cell_type": "code",
   "execution_count": 17,
   "metadata": {},
   "outputs": [
    {
     "data": {
      "text/plain": [
       "{'0': '5',\n",
       " '1': '6',\n",
       " '2': '7',\n",
       " '3': '8',\n",
       " '4': '9',\n",
       " '5': '0',\n",
       " '6': '1',\n",
       " '7': '2',\n",
       " '8': '3',\n",
       " '9': '4'}"
      ]
     },
     "execution_count": 17,
     "metadata": {},
     "output_type": "execute_result"
    }
   ],
   "source": [
    "numenc"
   ]
  },
  {
   "cell_type": "code",
   "execution_count": 18,
   "metadata": {},
   "outputs": [
    {
     "data": {
      "text/plain": [
       "{'5': '0',\n",
       " '6': '1',\n",
       " '7': '2',\n",
       " '8': '3',\n",
       " '9': '4',\n",
       " '0': '5',\n",
       " '1': '6',\n",
       " '2': '7',\n",
       " '3': '8',\n",
       " '4': '9'}"
      ]
     },
     "execution_count": 18,
     "metadata": {},
     "output_type": "execute_result"
    }
   ],
   "source": [
    "num={}\n",
    "for i in range(0,10):\n",
    "    if i>4:\n",
    "        num[str(i-5)]=str(i)\n",
    "    else:\n",
    "        num[str(i+5)]=str(i)\n",
    "num"
   ]
  },
  {
   "cell_type": "code",
   "execution_count": 19,
   "metadata": {},
   "outputs": [
    {
     "name": "stdout",
     "output_type": "stream",
     "text": [
      "34435456 89980901\n"
     ]
    }
   ],
   "source": [
    "n='34435456'\n",
    "enc=''\n",
    "for i in n:\n",
    "    enc+=numenc[i]\n",
    "print(n,enc)"
   ]
  },
  {
   "cell_type": "code",
   "execution_count": 20,
   "metadata": {},
   "outputs": [
    {
     "name": "stdout",
     "output_type": "stream",
     "text": [
      "34435456 89980901 34435456\n"
     ]
    }
   ],
   "source": [
    "dec=''\n",
    "for i in enc:\n",
    "    dec+=num[i]\n",
    "print(n,enc,dec)"
   ]
  },
  {
   "cell_type": "code",
   "execution_count": 26,
   "metadata": {},
   "outputs": [],
   "source": [
    "encdic = {}\n",
    "def encAlgorithm():\n",
    "    for i in range(65,91):\n",
    "        if i >86:\n",
    "            encdic[chr(i)]=chr(i-22)\n",
    "        else:\n",
    "            encdic[chr(i)]=chr(i+4)\n",
    "    for i in range(97,123):\n",
    "        if i >116:\n",
    "            encdic[chr(i)]=chr(i-20)\n",
    "        else:\n",
    "            encdic[chr(i)]=chr(i+6)\n",
    "    for i in range(0,10):\n",
    "        if i>4:\n",
    "            encdic[str(i-5)]=str(i)\n",
    "        else:\n",
    "            encdic[str(i+5)]=str(i)\n",
    "encAlgorithm()"
   ]
  },
  {
   "cell_type": "code",
   "execution_count": 27,
   "metadata": {},
   "outputs": [
    {
     "data": {
      "text/plain": [
       "{'A': 'E',\n",
       " 'B': 'F',\n",
       " 'C': 'G',\n",
       " 'D': 'H',\n",
       " 'E': 'I',\n",
       " 'F': 'J',\n",
       " 'G': 'K',\n",
       " 'H': 'L',\n",
       " 'I': 'M',\n",
       " 'J': 'N',\n",
       " 'K': 'O',\n",
       " 'L': 'P',\n",
       " 'M': 'Q',\n",
       " 'N': 'R',\n",
       " 'O': 'S',\n",
       " 'P': 'T',\n",
       " 'Q': 'U',\n",
       " 'R': 'V',\n",
       " 'S': 'W',\n",
       " 'T': 'X',\n",
       " 'U': 'Y',\n",
       " 'V': 'Z',\n",
       " 'W': 'A',\n",
       " 'X': 'B',\n",
       " 'Y': 'C',\n",
       " 'Z': 'D',\n",
       " 'a': 'g',\n",
       " 'b': 'h',\n",
       " 'c': 'i',\n",
       " 'd': 'j',\n",
       " 'e': 'k',\n",
       " 'f': 'l',\n",
       " 'g': 'm',\n",
       " 'h': 'n',\n",
       " 'i': 'o',\n",
       " 'j': 'p',\n",
       " 'k': 'q',\n",
       " 'l': 'r',\n",
       " 'm': 's',\n",
       " 'n': 't',\n",
       " 'o': 'u',\n",
       " 'p': 'v',\n",
       " 'q': 'w',\n",
       " 'r': 'x',\n",
       " 's': 'y',\n",
       " 't': 'z',\n",
       " 'u': 'a',\n",
       " 'v': 'b',\n",
       " 'w': 'c',\n",
       " 'x': 'd',\n",
       " 'y': 'e',\n",
       " 'z': 'f',\n",
       " '5': '0',\n",
       " '6': '1',\n",
       " '7': '2',\n",
       " '8': '3',\n",
       " '9': '4',\n",
       " '0': '5',\n",
       " '1': '6',\n",
       " '2': '7',\n",
       " '3': '8',\n",
       " '4': '9'}"
      ]
     },
     "execution_count": 27,
     "metadata": {},
     "output_type": "execute_result"
    }
   ],
   "source": [
    "encdic"
   ]
  },
  {
   "cell_type": "code",
   "execution_count": 29,
   "metadata": {},
   "outputs": [],
   "source": [
    "decdic = {}\n",
    "def decAlgorithm():\n",
    "    for i in range(65,91):\n",
    "        if i > 86:\n",
    "            decdic[chr(i-22)]=chr(i)\n",
    "        else:\n",
    "            decdic[chr(i+4)]=chr(i)\n",
    "    for i in range(97,123):\n",
    "        if i >116:\n",
    "            decdic[chr(i-20)]=chr(i)\n",
    "        else:\n",
    "            decdic[chr(i+6)]=chr(i)\n",
    "    for i in range(0,10):\n",
    "        if i>4:\n",
    "            decdic[str(i-5)]=str(i)\n",
    "        else:\n",
    "            decdic[str(i+5)]=str(i)\n",
    "        \n",
    "decAlgorithm()"
   ]
  },
  {
   "cell_type": "code",
   "execution_count": 30,
   "metadata": {},
   "outputs": [
    {
     "data": {
      "text/plain": [
       "{'E': 'A',\n",
       " 'F': 'B',\n",
       " 'G': 'C',\n",
       " 'H': 'D',\n",
       " 'I': 'E',\n",
       " 'J': 'F',\n",
       " 'K': 'G',\n",
       " 'L': 'H',\n",
       " 'M': 'I',\n",
       " 'N': 'J',\n",
       " 'O': 'K',\n",
       " 'P': 'L',\n",
       " 'Q': 'M',\n",
       " 'R': 'N',\n",
       " 'S': 'O',\n",
       " 'T': 'P',\n",
       " 'U': 'Q',\n",
       " 'V': 'R',\n",
       " 'W': 'S',\n",
       " 'X': 'T',\n",
       " 'Y': 'U',\n",
       " 'Z': 'V',\n",
       " 'A': 'W',\n",
       " 'B': 'X',\n",
       " 'C': 'Y',\n",
       " 'D': 'Z',\n",
       " 'g': 'a',\n",
       " 'h': 'b',\n",
       " 'i': 'c',\n",
       " 'j': 'd',\n",
       " 'k': 'e',\n",
       " 'l': 'f',\n",
       " 'm': 'g',\n",
       " 'n': 'h',\n",
       " 'o': 'i',\n",
       " 'p': 'j',\n",
       " 'q': 'k',\n",
       " 'r': 'l',\n",
       " 's': 'm',\n",
       " 't': 'n',\n",
       " 'u': 'o',\n",
       " 'v': 'p',\n",
       " 'w': 'q',\n",
       " 'x': 'r',\n",
       " 'y': 's',\n",
       " 'z': 't',\n",
       " 'a': 'u',\n",
       " 'b': 'v',\n",
       " 'c': 'w',\n",
       " 'd': 'x',\n",
       " 'e': 'y',\n",
       " 'f': 'z',\n",
       " '5': '0',\n",
       " '6': '1',\n",
       " '7': '2',\n",
       " '8': '3',\n",
       " '9': '4',\n",
       " '0': '5',\n",
       " '1': '6',\n",
       " '2': '7',\n",
       " '3': '8',\n",
       " '4': '9'}"
      ]
     },
     "execution_count": 30,
     "metadata": {},
     "output_type": "execute_result"
    }
   ],
   "source": [
    "decdic"
   ]
  },
  {
   "cell_type": "code",
   "execution_count": 32,
   "metadata": {},
   "outputs": [
    {
     "data": {
      "text/plain": [
       "' Lo Ehjar znoy oy ax tashkx 3401786925'"
      ]
     },
     "execution_count": 32,
     "metadata": {},
     "output_type": "execute_result"
    }
   ],
   "source": [
    "msg = \" Hi Abdul this is ur number 8956231470\"\n",
    "encmsg = ''\n",
    "for ch in msg:\n",
    "    if ch.isspace():\n",
    "        encmsg+=' '\n",
    "    else:\n",
    "        encmsg += encdic[ch]\n",
    "encmsg"
   ]
  },
  {
   "cell_type": "code",
   "execution_count": 34,
   "metadata": {},
   "outputs": [
    {
     "name": "stdout",
     "output_type": "stream",
     "text": [
      " Hi Abdul this is ur number 8956231470  Lo Ehjar znoy oy ax tashkx 3401786925  Hi Abdul this is ur number 8956231470\n"
     ]
    }
   ],
   "source": [
    "decmsg = ''\n",
    "for ch in encmsg:\n",
    "    if ch.isspace():\n",
    "        decmsg+=' '\n",
    "    else:\n",
    "        decmsg += decdic[ch]\n",
    "print(msg,encmsg,decmsg)"
   ]
  },
  {
   "cell_type": "code",
   "execution_count": null,
   "metadata": {},
   "outputs": [],
   "source": []
  }
 ],
 "metadata": {
  "kernelspec": {
   "display_name": "Python 3",
   "language": "python",
   "name": "python3"
  },
  "language_info": {
   "codemirror_mode": {
    "name": "ipython",
    "version": 3
   },
   "file_extension": ".py",
   "mimetype": "text/x-python",
   "name": "python",
   "nbconvert_exporter": "python",
   "pygments_lexer": "ipython3",
   "version": "3.7.3"
  }
 },
 "nbformat": 4,
 "nbformat_minor": 2
}
