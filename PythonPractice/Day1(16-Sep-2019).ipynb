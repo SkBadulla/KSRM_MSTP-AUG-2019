{
 "cells": [
  {
   "cell_type": "markdown",
   "metadata": {},
   "source": [
    "### 16-Sep-2019 Day Objectives:\n",
    "- Anaconda Installation\n",
    "- about anaconda navigator\n",
    "- difference between Python Idle and Jupyter Notebook\n",
    "- About Jupyter Notebook\n",
    "- Using Jupyter Notebook\n",
    "- Code Mode and Markdown Mode"
   ]
  },
  {
   "cell_type": "code",
   "execution_count": 6,
   "metadata": {},
   "outputs": [
    {
     "name": "stdout",
     "output_type": "stream",
     "text": [
      "Hi hello Welcome to MSTP\n",
      "i am from APSSDC\n"
     ]
    }
   ],
   "source": [
    "print(\"Hi hello Welcome to MSTP\")\n",
    "print(\"i am from APSSDC\")"
   ]
  },
  {
   "cell_type": "code",
   "execution_count": null,
   "metadata": {},
   "outputs": [],
   "source": [
    "apssdc-ksrm-level2-523"
   ]
  },
  {
   "cell_type": "code",
   "execution_count": 3,
   "metadata": {},
   "outputs": [
    {
     "data": {
      "text/plain": [
       "5"
      ]
     },
     "execution_count": 3,
     "metadata": {},
     "output_type": "execute_result"
    }
   ],
   "source": [
    "2+3"
   ]
  },
  {
   "cell_type": "code",
   "execution_count": 5,
   "metadata": {},
   "outputs": [
    {
     "data": {
      "text/plain": [
       "11"
      ]
     },
     "execution_count": 5,
     "metadata": {},
     "output_type": "execute_result"
    }
   ],
   "source": [
    "4+7"
   ]
  },
  {
   "cell_type": "markdown",
   "metadata": {},
   "source": [
    "# it will print like as header1 tag\n",
    "## header2 tag\n",
    "### all this hashes working like header tags\n",
    "#### it will work like as a h4 tag\n",
    "\n",
    "<p>I am using Paragraph tag</p>\n",
    "<p><b>paragraph tag with bold tag</b></p>\n",
    "<img src='pyhonimage.png' height=\"150px\" width=\"150px\">\n",
    "\n",
    "## HTML List\n",
    "- Unorderesd List\n",
    "    - UL tag with li tag\n",
    "- Ordered List\n",
    "    - OL tag with li tag\n",
    "\n",
    "<a href=\"pyhonimage.png\">Click here for advanced</a>"
   ]
  },
  {
   "cell_type": "code",
   "execution_count": null,
   "metadata": {},
   "outputs": [],
   "source": []
  }
 ],
 "metadata": {
  "kernelspec": {
   "display_name": "Python 3",
   "language": "python",
   "name": "python3"
  },
  "language_info": {
   "codemirror_mode": {
    "name": "ipython",
    "version": 3
   },
   "file_extension": ".py",
   "mimetype": "text/x-python",
   "name": "python",
   "nbconvert_exporter": "python",
   "pygments_lexer": "ipython3",
   "version": "3.7.3"
  }
 },
 "nbformat": 4,
 "nbformat_minor": 2
}
