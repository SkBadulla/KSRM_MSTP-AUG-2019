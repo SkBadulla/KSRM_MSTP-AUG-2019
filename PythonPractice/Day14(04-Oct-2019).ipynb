{
 "cells": [
  {
   "cell_type": "markdown",
   "metadata": {},
   "source": [
    "### Print 3 digits numbers sum"
   ]
  },
  {
   "cell_type": "code",
   "execution_count": 2,
   "metadata": {},
   "outputs": [
    {
     "name": "stdout",
     "output_type": "stream",
     "text": [
      "100 200 5 100 400\n",
      "800\n"
     ]
    }
   ],
   "source": [
    "# input : 100 200 5 100 400\n",
    "nums = input().split()\n",
    "sm = 0 \n",
    "for num in nums:\n",
    "    if len(num)==3:\n",
    "        sm+=int(num)\n",
    "print(sm)\n"
   ]
  },
  {
   "cell_type": "markdown",
   "metadata": {},
   "source": [
    "### String Repetition"
   ]
  },
  {
   "cell_type": "code",
   "execution_count": 3,
   "metadata": {},
   "outputs": [
    {
     "name": "stdout",
     "output_type": "stream",
     "text": [
      "hello\n",
      "2\n",
      "hellohello\n"
     ]
    }
   ],
   "source": [
    "name = input()\n",
    "num = int(input())\n",
    "print(name*num)"
   ]
  },
  {
   "cell_type": "markdown",
   "metadata": {},
   "source": [
    "### Formated mobile numner"
   ]
  },
  {
   "cell_type": "code",
   "execution_count": 21,
   "metadata": {},
   "outputs": [
    {
     "name": "stdout",
     "output_type": "stream",
     "text": [
      "3\n",
      "09856230147\n",
      "919856230147\n",
      "919745863201\n",
      "+91-(974)-586-3201\n",
      "+91-(985)-623-0147\n",
      "+91-(985)-623-0147\n"
     ]
    }
   ],
   "source": [
    "# read integer\n",
    "n = int(input())\n",
    "nums = []\n",
    "for i in range(n):\n",
    "    num = input()\n",
    "    #nums.append(num[-10:])\n",
    "    if num.startswith('0'):\n",
    "        nums.append(num[1:])\n",
    "    elif(num.startswith('+91')):\n",
    "        nums.append(num[3:])\n",
    "    elif(num.startswith('91')):\n",
    "        nums.append(num[2:])\n",
    "    else:\n",
    "        nums.append(num)\n",
    "nums.sort()\n",
    "for num in nums:\n",
    "    print(\"+91-(\"+num[0:3]+\")-\"+num[3:6]+\"-\"+num[6:])\n"
   ]
  },
  {
   "cell_type": "markdown",
   "metadata": {},
   "source": [
    "### Digits reverse"
   ]
  },
  {
   "cell_type": "code",
   "execution_count": 8,
   "metadata": {},
   "outputs": [
    {
     "name": "stdout",
     "output_type": "stream",
     "text": [
      "234\n",
      "4\n",
      "3\n",
      "2\n"
     ]
    }
   ],
   "source": [
    "s = input()\n",
    "for i in s[::-1]:\n",
    "    print(i)"
   ]
  },
  {
   "cell_type": "code",
   "execution_count": 19,
   "metadata": {},
   "outputs": [
    {
     "data": {
      "text/plain": [
       "'1234567890'"
      ]
     },
     "execution_count": 19,
     "metadata": {},
     "output_type": "execute_result"
    }
   ],
   "source": [
    "num =\"01234567890\"\n",
    "num = num[-10:]\n",
    "num"
   ]
  },
  {
   "cell_type": "code",
   "execution_count": null,
   "metadata": {},
   "outputs": [],
   "source": []
  }
 ],
 "metadata": {
  "kernelspec": {
   "display_name": "Python 3",
   "language": "python",
   "name": "python3"
  },
  "language_info": {
   "codemirror_mode": {
    "name": "ipython",
    "version": 3
   },
   "file_extension": ".py",
   "mimetype": "text/x-python",
   "name": "python",
   "nbconvert_exporter": "python",
   "pygments_lexer": "ipython3",
   "version": "3.7.3"
  }
 },
 "nbformat": 4,
 "nbformat_minor": 2
}
