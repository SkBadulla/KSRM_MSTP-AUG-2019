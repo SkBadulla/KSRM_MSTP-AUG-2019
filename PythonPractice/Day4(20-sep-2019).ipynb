{
 "cells": [
  {
   "cell_type": "markdown",
   "metadata": {},
   "source": [
    "## Day Objectives:\n",
    "#### Functions:\n",
    "- User Defined Functions\n",
    "    - User can build his own logic\n",
    "     \n",
    "         "
   ]
  },
  {
   "cell_type": "code",
   "execution_count": 7,
   "metadata": {},
   "outputs": [
    {
     "name": "stdout",
     "output_type": "stream",
     "text": [
      "Over\n",
      "hello\n",
      "Hi\n"
     ]
    }
   ],
   "source": [
    "\n",
    "def hello():\n",
    "    print(\"hello\")\n",
    "    print(\"Hi\")\n",
    "print(\"Over\")\n",
    "hello()"
   ]
  },
  {
   "cell_type": "code",
   "execution_count": 8,
   "metadata": {},
   "outputs": [
    {
     "name": "stdout",
     "output_type": "stream",
     "text": [
      "i am without passing arguments and without return\n"
     ]
    }
   ],
   "source": [
    "# without passing arguments and without return\n",
    "def show():\n",
    "    print(\"i am without passing arguments and without return\")\n",
    "show()"
   ]
  },
  {
   "cell_type": "code",
   "execution_count": 11,
   "metadata": {},
   "outputs": [
    {
     "name": "stdout",
     "output_type": "stream",
     "text": [
      "bye\n"
     ]
    }
   ],
   "source": [
    "# without passing arguments and return result\n",
    "def display():\n",
    "    return \"bye\"\n",
    "#print(display()) # \n",
    "rs = display()\n",
    "print(rs)"
   ]
  },
  {
   "cell_type": "code",
   "execution_count": 13,
   "metadata": {},
   "outputs": [
    {
     "name": "stdout",
     "output_type": "stream",
     "text": [
      "addition of num1 and num2 is 11\n"
     ]
    }
   ],
   "source": [
    "# passing arguments and without return result\n",
    "def add(num1,num2):\n",
    "    print(\"addition of num1 and num2 is\",num1+num2)\n",
    "n1=5\n",
    "n2=6\n",
    "add(n1,n2)\n",
    "    \n",
    "    "
   ]
  },
  {
   "cell_type": "code",
   "execution_count": 17,
   "metadata": {},
   "outputs": [
    {
     "name": "stdout",
     "output_type": "stream",
     "text": [
      "num1*num2 30\n"
     ]
    }
   ],
   "source": [
    "# passing arguments and return result\n",
    "def mul(n1,n2):\n",
    "    return n1*n2\n",
    "#print(\"mul of numbers is:\",mul(4,5))\n",
    "rs = mul(5,6)\n",
    "print(\"num1*num2\",rs)"
   ]
  },
  {
   "cell_type": "code",
   "execution_count": 22,
   "metadata": {},
   "outputs": [
    {
     "name": "stdout",
     "output_type": "stream",
     "text": [
      "Enter first number:10\n",
      "Enter second number:5\n",
      "val1 + val2 is : 15\n",
      "val1 * val2 is : 50\n",
      "5\n"
     ]
    }
   ],
   "source": [
    "val1 = int(input(\"Enter first number:\"))\n",
    "val2 = int(input(\"Enter second number:\"))\n",
    "def addition(num1,num2):\n",
    "    return num1+num2\n",
    "def mul(num1,num2):\n",
    "    return num1*num2\n",
    "def sub(num1,num2):\n",
    "    return num1-num2\n",
    "\n",
    "\n",
    "print(\"val1 + val2 is :\",addition(val1,val2))\n",
    "print(\"val1 * val2 is :\",mul(val1,val2))\n",
    "print(sub(val1,val2))"
   ]
  },
  {
   "cell_type": "markdown",
   "metadata": {},
   "source": [
    "## other functions in python\n",
    "- default arguments\n",
    "- required arguments\n",
    "- keyword arguments\n",
    "- variable length arguments"
   ]
  },
  {
   "cell_type": "code",
   "execution_count": 25,
   "metadata": {},
   "outputs": [
    {
     "name": "stdout",
     "output_type": "stream",
     "text": [
      "hello hi###APSSDC MSTP\n"
     ]
    }
   ],
   "source": [
    "#  examples for default arguments is\n",
    "print(\"hello\",end=\" \")\n",
    "print(\"hi\",end=\"###\")\n",
    "print(\"APSSDC MSTP\")"
   ]
  },
  {
   "cell_type": "code",
   "execution_count": 28,
   "metadata": {},
   "outputs": [
    {
     "name": "stdout",
     "output_type": "stream",
     "text": [
      "5\n",
      "10\n",
      "6\n",
      "14\n"
     ]
    }
   ],
   "source": [
    "def add(n1=0,n2=0,n3=0,n4=0):\n",
    "    return n1+n2+n3+n4\n",
    "print(add(5),add(5,5),add(1,2,3),add(5,4,3,2))\n"
   ]
  },
  {
   "cell_type": "code",
   "execution_count": 30,
   "metadata": {},
   "outputs": [
    {
     "data": {
      "text/plain": [
       "0"
      ]
     },
     "execution_count": 30,
     "metadata": {},
     "output_type": "execute_result"
    }
   ],
   "source": [
    "# example for required arguments is\n",
    "range()"
   ]
  },
  {
   "cell_type": "code",
   "execution_count": 31,
   "metadata": {},
   "outputs": [
    {
     "ename": "TypeError",
     "evalue": "mul() missing 1 required positional argument: 'b'",
     "output_type": "error",
     "traceback": [
      "\u001b[1;31m---------------------------------------------------------------------------\u001b[0m",
      "\u001b[1;31mTypeError\u001b[0m                                 Traceback (most recent call last)",
      "\u001b[1;32m<ipython-input-31-7994432657a1>\u001b[0m in \u001b[0;36m<module>\u001b[1;34m\u001b[0m\n\u001b[0;32m      1\u001b[0m \u001b[1;32mdef\u001b[0m \u001b[0mmul\u001b[0m\u001b[1;33m(\u001b[0m\u001b[0ma\u001b[0m\u001b[1;33m,\u001b[0m\u001b[0mb\u001b[0m\u001b[1;33m)\u001b[0m\u001b[1;33m:\u001b[0m\u001b[1;33m\u001b[0m\u001b[1;33m\u001b[0m\u001b[0m\n\u001b[0;32m      2\u001b[0m     \u001b[1;32mreturn\u001b[0m \u001b[0ma\u001b[0m\u001b[1;33m*\u001b[0m\u001b[0mb\u001b[0m\u001b[1;33m\u001b[0m\u001b[1;33m\u001b[0m\u001b[0m\n\u001b[1;32m----> 3\u001b[1;33m \u001b[0mprint\u001b[0m\u001b[1;33m(\u001b[0m\u001b[0mmul\u001b[0m\u001b[1;33m(\u001b[0m\u001b[1;36m5\u001b[0m\u001b[1;33m)\u001b[0m\u001b[1;33m)\u001b[0m\u001b[1;33m\u001b[0m\u001b[1;33m\u001b[0m\u001b[0m\n\u001b[0m",
      "\u001b[1;31mTypeError\u001b[0m: mul() missing 1 required positional argument: 'b'"
     ]
    }
   ],
   "source": [
    "def mul(a,b):\n",
    "    return a*b\n",
    "print(mul(5))"
   ]
  },
  {
   "cell_type": "code",
   "execution_count": 33,
   "metadata": {},
   "outputs": [
    {
     "ename": "TypeError",
     "evalue": "power() got an unexpected keyword argument 'exp1'",
     "output_type": "error",
     "traceback": [
      "\u001b[1;31m---------------------------------------------------------------------------\u001b[0m",
      "\u001b[1;31mTypeError\u001b[0m                                 Traceback (most recent call last)",
      "\u001b[1;32m<ipython-input-33-9d2928c23e67>\u001b[0m in \u001b[0;36m<module>\u001b[1;34m\u001b[0m\n\u001b[0;32m      2\u001b[0m \u001b[1;32mdef\u001b[0m \u001b[0mpower\u001b[0m\u001b[1;33m(\u001b[0m\u001b[0mbase\u001b[0m\u001b[1;33m,\u001b[0m\u001b[0mexp\u001b[0m\u001b[1;33m)\u001b[0m\u001b[1;33m:\u001b[0m\u001b[1;33m\u001b[0m\u001b[1;33m\u001b[0m\u001b[0m\n\u001b[0;32m      3\u001b[0m     \u001b[1;32mreturn\u001b[0m \u001b[0mbase\u001b[0m\u001b[1;33m**\u001b[0m\u001b[0mexp\u001b[0m\u001b[1;33m\u001b[0m\u001b[1;33m\u001b[0m\u001b[0m\n\u001b[1;32m----> 4\u001b[1;33m \u001b[0mprint\u001b[0m\u001b[1;33m(\u001b[0m\u001b[0mpower\u001b[0m\u001b[1;33m(\u001b[0m\u001b[0mexp1\u001b[0m\u001b[1;33m=\u001b[0m\u001b[1;36m2\u001b[0m\u001b[1;33m,\u001b[0m\u001b[0mbase\u001b[0m\u001b[1;33m=\u001b[0m\u001b[1;36m2\u001b[0m\u001b[1;33m)\u001b[0m\u001b[1;33m)\u001b[0m\u001b[1;33m\u001b[0m\u001b[1;33m\u001b[0m\u001b[0m\n\u001b[0m",
      "\u001b[1;31mTypeError\u001b[0m: power() got an unexpected keyword argument 'exp1'"
     ]
    }
   ],
   "source": [
    "# example for keyword arguments is print(end=\",\")\n",
    "def power(base,exp):\n",
    "    return base**exp\n",
    "print(power(exp1=2,base=2))"
   ]
  },
  {
   "cell_type": "code",
   "execution_count": 42,
   "metadata": {},
   "outputs": [
    {
     "name": "stdout",
     "output_type": "stream",
     "text": [
      "9 <class 'tuple'>\n",
      "sum of vals is: 71\n"
     ]
    }
   ],
   "source": [
    "# variable length arguments\n",
    "def sm(*vals):\n",
    "    print(len(vals),type(vals))\n",
    "    print(\"sum of vals is:\",sum(vals))\n",
    "sm(1,2,3,45,6,3,2,4,5)"
   ]
  },
  {
   "cell_type": "markdown",
   "metadata": {},
   "source": [
    "## Conditional Control Statements:\n",
    "- it controls flow of program execution based on condition.\n",
    "- 3 types\n",
    "    - conditional statemets\n",
    "    - iterative statements or looping statemets\n",
    "    - jumpimg statemets"
   ]
  },
  {
   "cell_type": "markdown",
   "metadata": {},
   "source": [
    "### conditional statemets are\n",
    "- if\n",
    "- if else\n",
    "- if else lader\n",
    "- nested if else"
   ]
  },
  {
   "cell_type": "code",
   "execution_count": 43,
   "metadata": {},
   "outputs": [
    {
     "name": "stdout",
     "output_type": "stream",
     "text": [
      "4 is smaller than 5\n"
     ]
    }
   ],
   "source": [
    "if(4<5):\n",
    "    print(\"4 is smaller than 5\")"
   ]
  },
  {
   "cell_type": "code",
   "execution_count": 1,
   "metadata": {},
   "outputs": [
    {
     "name": "stdout",
     "output_type": "stream",
     "text": [
      "ur in else block\n",
      "ur smaller\n"
     ]
    }
   ],
   "source": [
    "if(6<5):\n",
    "    print(\"ur in if block\")\n",
    "    print(\"Ur bigger\")\n",
    "else:\n",
    "    print(\"ur in else block\")\n",
    "    print(\"ur smaller\")\n",
    "    "
   ]
  },
  {
   "cell_type": "code",
   "execution_count": 3,
   "metadata": {},
   "outputs": [
    {
     "name": "stdout",
     "output_type": "stream",
     "text": [
      "Ur in elif block\n"
     ]
    }
   ],
   "source": [
    "if (5<4):\n",
    "    print(\"ur in if block\")\n",
    "elif(6<7):\n",
    "    print(\"Ur in elif block\")\n",
    "else:\n",
    "    print(\"ur in else block\")"
   ]
  },
  {
   "cell_type": "code",
   "execution_count": null,
   "metadata": {},
   "outputs": [],
   "source": []
  }
 ],
 "metadata": {
  "kernelspec": {
   "display_name": "Python 3",
   "language": "python",
   "name": "python3"
  },
  "language_info": {
   "codemirror_mode": {
    "name": "ipython",
    "version": 3
   },
   "file_extension": ".py",
   "mimetype": "text/x-python",
   "name": "python",
   "nbconvert_exporter": "python",
   "pygments_lexer": "ipython3",
   "version": "3.7.3"
  }
 },
 "nbformat": 4,
 "nbformat_minor": 2
}
