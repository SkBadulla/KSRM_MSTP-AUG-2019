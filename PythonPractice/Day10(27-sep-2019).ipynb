{
 "cells": [
  {
   "cell_type": "code",
   "execution_count": 4,
   "metadata": {},
   "outputs": [
    {
     "name": "stdout",
     "output_type": "stream",
     "text": [
      "2\n",
      "Hai\n",
      "Ibj\n",
      "Hai hello!\n",
      "Ibj ifmmp!\n"
     ]
    }
   ],
   "source": [
    "# Encryption\n",
    "## 2\n",
    "## Hai -->Ibj\n",
    "n = int(input())\n",
    "for i in range(n):\n",
    "    s = input()\n",
    "    s1=\"\"\n",
    "    for ch in s:\n",
    "        if ch.isalpha():\n",
    "            s1+=chr(ord(ch)+1)\n",
    "        else:\n",
    "            s1 += ch\n",
    "    print(s1)"
   ]
  },
  {
   "cell_type": "code",
   "execution_count": 3,
   "metadata": {},
   "outputs": [
    {
     "name": "stdout",
     "output_type": "stream",
     "text": [
      "2\n",
      "-89 9 81 78 -99 -1 -989\n",
      "1010\n",
      "-5 9 8 -10  -78 -100 10\n",
      "166\n"
     ]
    }
   ],
   "source": [
    "# Additive Inverse\n",
    "## 2\n",
    "## input1: -5 9 8 -10  -78 -100 10 ==>166\n",
    "## input2: -89 9 81 78 -99 -1 -989 ==>1010\n",
    "n = int(input())\n",
    "\n",
    "for i in range(n):\n",
    "    sm = 0\n",
    "    l = input().split()\n",
    "    for j in l:\n",
    "        sm += int(j)*-1\n",
    "    print(sm) \n",
    "#    l = list(map(int,input().split()))\n",
    "#     for j in l:\n",
    "#         if j>0:\n",
    "#             sm -= j\n",
    "#         else:\n",
    "#             sm += abs(j)\n",
    "#     print(sm)\n"
   ]
  },
  {
   "cell_type": "code",
   "execution_count": 6,
   "metadata": {},
   "outputs": [
    {
     "name": "stdout",
     "output_type": "stream",
     "text": [
      "2\n",
      "1234567890098765432\n",
      "True\n",
      "12345678998765432\n",
      "False\n"
     ]
    }
   ],
   "source": [
    "## Pandigit\n",
    "## 2\n",
    "## 1234567890098765432 -->True\n",
    "\n",
    "n = int(input())\n",
    "for i in range(n):\n",
    "    s = input()\n",
    "#     c = 0\n",
    "#     for j in range(10):\n",
    "#         if str(j) in s:\n",
    "#             c +=1\n",
    "#     if c==10:\n",
    "#         print(\"True\")\n",
    "#     else:\n",
    "#         print(\"False\")\n",
    "            \n",
    "    s = set(s)\n",
    "    if len(s)==10:\n",
    "        print(\"True\")\n",
    "    else:\n",
    "        print(\"False\")\n",
    "    \n",
    "\n",
    "\n"
   ]
  },
  {
   "cell_type": "markdown",
   "metadata": {},
   "source": [
    "## Files:\n",
    "- Collection of data\n",
    "- file types:\n",
    "    - .csv\n",
    "    - .txt\n",
    "    - .pdf\n",
    "    - .exe\n",
    "    - .html\n",
    "    \n",
    "### Procedure to work on files:\n",
    "- need to open a file\n",
    "- based on requirement we can perform related action\n",
    "- close file"
   ]
  },
  {
   "cell_type": "code",
   "execution_count": 6,
   "metadata": {},
   "outputs": [
    {
     "name": "stdout",
     "output_type": "stream",
     "text": [
      "hi,\n",
      "hello,\n",
      "welcome to Python lab.\n"
     ]
    }
   ],
   "source": [
    "fh = open('mydata.txt')\n",
    "print(fh.read())\n",
    "fh.close()"
   ]
  },
  {
   "cell_type": "code",
   "execution_count": 9,
   "metadata": {},
   "outputs": [
    {
     "name": "stdout",
     "output_type": "stream",
     "text": [
      "hi,\n",
      "hello,\n",
      "welcome to Python lab.\n"
     ]
    }
   ],
   "source": [
    "fh = open('mydata.txt')\n",
    "for line in fh:\n",
    "    print(line.rstrip())\n",
    "fh.close()"
   ]
  },
  {
   "cell_type": "code",
   "execution_count": 13,
   "metadata": {},
   "outputs": [],
   "source": [
    "fh = open('mydata1.txt','w')\n",
    "txt = \"i am from kadapa\"\n",
    "fh.write(txt)\n",
    "fh.close()"
   ]
  },
  {
   "cell_type": "code",
   "execution_count": 15,
   "metadata": {},
   "outputs": [],
   "source": [
    "fh = open('mydata1.txt','a')\n",
    "txt = \"i am from KSRM\"\n",
    "fh.write(\"\\n\"+txt)\n",
    "fh.close()"
   ]
  },
  {
   "cell_type": "code",
   "execution_count": 16,
   "metadata": {},
   "outputs": [
    {
     "name": "stdout",
     "output_type": "stream",
     "text": [
      "hi\n",
      "hello\n",
      "how r u\n",
      "i am from apssdc\n"
     ]
    }
   ],
   "source": [
    "path = 'textFiles/sample.txt'\n",
    "with open(path,'r') as fh:\n",
    "    print(fh.read())"
   ]
  },
  {
   "cell_type": "code",
   "execution_count": 18,
   "metadata": {},
   "outputs": [
    {
     "name": "stdout",
     "output_type": "stream",
     "text": [
      "hi\n",
      "hello\n",
      "how r u\n",
      "i am from apssdc\n"
     ]
    }
   ],
   "source": [
    "path = 'textFiles/sample.txt'\n",
    "with open(path,'r') as fh:\n",
    "    for line in fh:\n",
    "        print(line.rstrip())"
   ]
  },
  {
   "cell_type": "code",
   "execution_count": null,
   "metadata": {},
   "outputs": [],
   "source": []
  }
 ],
 "metadata": {
  "kernelspec": {
   "display_name": "Python 3",
   "language": "python",
   "name": "python3"
  },
  "language_info": {
   "codemirror_mode": {
    "name": "ipython",
    "version": 3
   },
   "file_extension": ".py",
   "mimetype": "text/x-python",
   "name": "python",
   "nbconvert_exporter": "python",
   "pygments_lexer": "ipython3",
   "version": "3.7.3"
  }
 },
 "nbformat": 4,
 "nbformat_minor": 2
}
