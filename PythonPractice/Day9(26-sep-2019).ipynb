{
 "cells": [
  {
   "cell_type": "code",
   "execution_count": 5,
   "metadata": {},
   "outputs": [
    {
     "name": "stdout",
     "output_type": "stream",
     "text": [
      "1999\n",
      "Flase\n"
     ]
    }
   ],
   "source": [
    "# Leap Year or Not\n",
    "n = int(input())\n",
    "if n%4==0 and (n%400==0 or n%100!=0):\n",
    "    print(\"true\")\n",
    "else:\n",
    "    print(\"Flase\")"
   ]
  },
  {
   "cell_type": "code",
   "execution_count": 12,
   "metadata": {},
   "outputs": [
    {
     "name": "stdout",
     "output_type": "stream",
     "text": [
      "2\n"
     ]
    }
   ],
   "source": [
    "# Find String\n",
    "v = \"ABCDCDC\"\n",
    "x = \"CDC\"\n",
    "l =len(x)\n",
    "c = 0\n",
    "for i in range(len(v)):\n",
    "    if v[i:i+l] == x:\n",
    "        c += 1\n",
    "print(c)\n"
   ]
  },
  {
   "cell_type": "code",
   "execution_count": 14,
   "metadata": {},
   "outputs": [
    {
     "data": {
      "text/plain": [
       "['CDC']"
      ]
     },
     "execution_count": 14,
     "metadata": {},
     "output_type": "execute_result"
    }
   ],
   "source": [
    "# Find String\n",
    "import re\n",
    "v = \"ABCDCDC\"\n",
    "x = \"CDC\"\n",
    "#print(len(re.findall('(?=CDC)',v)))\n",
    "re.findall(x,v)"
   ]
  },
  {
   "cell_type": "code",
   "execution_count": 17,
   "metadata": {},
   "outputs": [
    {
     "name": "stdout",
     "output_type": "stream",
     "text": [
      "ABCD\n",
      "EFGH\n",
      "IJKL\n",
      "IMNO\n",
      "QRST\n",
      "UVWX\n",
      "YZ\n"
     ]
    }
   ],
   "source": [
    "# Text Wrapping\n",
    "import textwrap\n",
    "wrapper = textwrap.TextWrapper(width=4)\n",
    "s = \"ABCDEFGHIJKLIMNOQRSTUVWXYZ\"\n",
    "dedented_text = textwrap.dedent(text=s)\n",
    "#dedented_text\n",
    "original = wrapper.fill(text=dedented_text) \n",
    "print(original)\n",
    "# print('Original:\\n') \n",
    "# print(original) \n",
    "  \n",
    "# shortened = textwrap.shorten(text=original, width=4) \n",
    "# shortened_wrapped = wrapper.fill(text=shortened) \n",
    "  \n",
    "# print('\\nShortened:\\n') \n",
    "# print(shortened_wrapped) "
   ]
  },
  {
   "cell_type": "code",
   "execution_count": 1,
   "metadata": {},
   "outputs": [
    {
     "data": {
      "text/plain": [
       "1"
      ]
     },
     "execution_count": 1,
     "metadata": {},
     "output_type": "execute_result"
    }
   ],
   "source": [
    "\"ABCDCDC\".count('CDC')"
   ]
  },
  {
   "cell_type": "code",
   "execution_count": null,
   "metadata": {},
   "outputs": [],
   "source": []
  }
 ],
 "metadata": {
  "kernelspec": {
   "display_name": "Python 3",
   "language": "python",
   "name": "python3"
  },
  "language_info": {
   "codemirror_mode": {
    "name": "ipython",
    "version": 3
   },
   "file_extension": ".py",
   "mimetype": "text/x-python",
   "name": "python",
   "nbconvert_exporter": "python",
   "pygments_lexer": "ipython3",
   "version": "3.7.3"
  }
 },
 "nbformat": 4,
 "nbformat_minor": 2
}
