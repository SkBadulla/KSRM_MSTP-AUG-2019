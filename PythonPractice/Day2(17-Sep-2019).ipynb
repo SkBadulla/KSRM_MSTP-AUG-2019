{
 "cells": [
  {
   "cell_type": "markdown",
   "metadata": {},
   "source": [
    "# Day Objectives\n",
    "- Python Introduction\n",
    "- Variables\n",
    "- Operators\n",
    "- String and string Funcrtions"
   ]
  },
  {
   "cell_type": "markdown",
   "metadata": {},
   "source": [
    "## Python Introduction \n",
    "#### For defining python \n",
    "- Highlevel Programming Language\n",
    "- Interpriter\n",
    "- oop's\n",
    "- multipurpose\n",
    "- Dynamic\n",
    "\n"
   ]
  },
  {
   "cell_type": "code",
   "execution_count": 6,
   "metadata": {},
   "outputs": [
    {
     "name": "stdout",
     "output_type": "stream",
     "text": [
      "<class 'int'>\n",
      "<class 'float'>\n",
      "<class 'str'>\n"
     ]
    }
   ],
   "source": [
    "c=0\n",
    "print(type(c))\n",
    "c=5/2\n",
    "print(type(c))\n",
    "c=\"a\"\n",
    "print(type(c))"
   ]
  },
  {
   "cell_type": "markdown",
   "metadata": {},
   "source": [
    "## Variables\n",
    "\n",
    "- we can store values tempararly\n",
    "\n",
    "#### variable assignmnets\n",
    "- assigmning single value to multiple variables\n",
    "- assigning different type of values to different variables in a line\n",
    "\n",
    "- by using second way i can perform swapping with out using temp\n"
   ]
  },
  {
   "cell_type": "code",
   "execution_count": 12,
   "metadata": {},
   "outputs": [
    {
     "name": "stdout",
     "output_type": "stream",
     "text": [
      "10\n",
      "10\n",
      "10\n"
     ]
    }
   ],
   "source": [
    "a=b=c=10\n",
    "print(a)\n",
    "print(b)\n",
    "print(c)"
   ]
  },
  {
   "cell_type": "code",
   "execution_count": 13,
   "metadata": {},
   "outputs": [
    {
     "name": "stdout",
     "output_type": "stream",
     "text": [
      "<class 'str'>\n",
      "<class 'float'>\n",
      "<class 'int'>\n"
     ]
    }
   ],
   "source": [
    "name,age,rollno=\"apssdc\",24.5,1234567\n",
    "print(type(name))\n",
    "print(type(age))\n",
    "print(type(rollno))"
   ]
  },
  {
   "cell_type": "code",
   "execution_count": 14,
   "metadata": {},
   "outputs": [
    {
     "name": "stdout",
     "output_type": "stream",
     "text": [
      "apssdc <class 'str'>\n",
      "24.5 <class 'float'>\n",
      "1234567 <class 'int'>\n"
     ]
    }
   ],
   "source": [
    "print(name,type(name))\n",
    "print(age,type(age))\n",
    "print(rollno,type(rollno))"
   ]
  },
  {
   "cell_type": "code",
   "execution_count": 15,
   "metadata": {},
   "outputs": [
    {
     "name": "stdout",
     "output_type": "stream",
     "text": [
      "10 20\n",
      "20 10\n"
     ]
    }
   ],
   "source": [
    "a,b=10,20\n",
    "print(a,b)\n",
    "a,b=b,a\n",
    "print(a,b)"
   ]
  },
  {
   "cell_type": "code",
   "execution_count": 16,
   "metadata": {},
   "outputs": [
    {
     "data": {
      "text/plain": [
       "(20, 10)"
      ]
     },
     "execution_count": 16,
     "metadata": {},
     "output_type": "execute_result"
    }
   ],
   "source": [
    "a,b=10,20\n",
    "a=a+b\n",
    "b=a-b\n",
    "a=a-b\n",
    "a,b"
   ]
  },
  {
   "cell_type": "markdown",
   "metadata": {},
   "source": [
    "##### Reading values from user\n",
    "- in python we can use input() for reading values from user"
   ]
  },
  {
   "cell_type": "code",
   "execution_count": 18,
   "metadata": {},
   "outputs": [
    {
     "name": "stdout",
     "output_type": "stream",
     "text": [
      "Enter a value34\n"
     ]
    },
    {
     "data": {
      "text/plain": [
       "str"
      ]
     },
     "execution_count": 18,
     "metadata": {},
     "output_type": "execute_result"
    }
   ],
   "source": [
    "a = input(\"Enter a value\")\n",
    "type(a)"
   ]
  },
  {
   "cell_type": "code",
   "execution_count": 19,
   "metadata": {},
   "outputs": [
    {
     "name": "stdout",
     "output_type": "stream",
     "text": [
      "Enter a number:456\n",
      "<class 'int'>\n"
     ]
    }
   ],
   "source": [
    "b = int(input(\"Enter a number:\"))\n",
    "print(type(b))"
   ]
  },
  {
   "cell_type": "code",
   "execution_count": 22,
   "metadata": {},
   "outputs": [
    {
     "name": "stdout",
     "output_type": "stream",
     "text": [
      "Enter name:abdul\n",
      "Welcome abdul\n"
     ]
    }
   ],
   "source": [
    "name = str(input(\"Enter name:\"))\n",
    "print(\"Welcome\",name)"
   ]
  },
  {
   "cell_type": "markdown",
   "metadata": {},
   "source": [
    "#### Modes of Execution\n",
    "- we have 2 ways\n",
    "    - Interactive Mode\n",
    "        - we can write something and we can see result there only\n",
    "    - Scripting Mode - we can build logic in file.py"
   ]
  },
  {
   "cell_type": "markdown",
   "metadata": {},
   "source": [
    "### Operators\n",
    "- we can perform arithmetic and logical operations\n",
    "\n",
    "#### types:\n",
    "- AO --> +,-,*,/,%,//,**\n",
    "- RO --> <,<=,>,>=,==,!=\n",
    "    - Compare 2 nums\n",
    "- LO - and, or, not\n",
    "     - We can compare 2 conditions\n",
    "- Bo - &,|,<<,>>\n",
    "- AsO - +=,-=,*=,/=,%=,//=,**=,<=,>=\n",
    "- MO - in, not in\n",
    "- IO - is, is not"
   ]
  },
  {
   "cell_type": "code",
   "execution_count": 9,
   "metadata": {},
   "outputs": [
    {
     "data": {
      "text/plain": [
       "8"
      ]
     },
     "execution_count": 9,
     "metadata": {},
     "output_type": "execute_result"
    }
   ],
   "source": [
    "2+4\n",
    "5-3\n",
    "2*2\n",
    "\"abdul \"*3\n",
    "\"*\"*5\n",
    "4/2\n",
    "5/2\n",
    "4//2\n",
    "2**3"
   ]
  },
  {
   "cell_type": "code",
   "execution_count": 12,
   "metadata": {},
   "outputs": [
    {
     "data": {
      "text/plain": [
       "False"
      ]
     },
     "execution_count": 12,
     "metadata": {},
     "output_type": "execute_result"
    }
   ],
   "source": [
    "3<5\n",
    "5<=5\n",
    "a,b=5,6\n",
    "a>b"
   ]
  },
  {
   "cell_type": "code",
   "execution_count": 16,
   "metadata": {},
   "outputs": [
    {
     "data": {
      "text/plain": [
       "True"
      ]
     },
     "execution_count": 16,
     "metadata": {},
     "output_type": "execute_result"
    }
   ],
   "source": [
    "a,b,c,d=5,8,4,9\n",
    "a<b and c>d\n",
    "a>b or c<d\n",
    "not a>b"
   ]
  },
  {
   "cell_type": "code",
   "execution_count": 21,
   "metadata": {},
   "outputs": [
    {
     "data": {
      "text/plain": [
       "1"
      ]
     },
     "execution_count": 21,
     "metadata": {},
     "output_type": "execute_result"
    }
   ],
   "source": [
    "2&3\n",
    "# \"\"\"\n",
    "# 2==>0010\n",
    "# 3==>0011\n",
    "# &\n",
    "# ========\n",
    "#     0010==>2\n",
    "# \"\"\"\n",
    "\n",
    "# \"\"\"\n",
    "# 2==>0010\n",
    "# 3==>0011\n",
    "# |(+)\n",
    "# ========\n",
    "#     0011==>3\n",
    "# \"\"\"\n",
    "2|3\n",
    "\n",
    "2<<1\n",
    "#2-->0010\n",
    "# 0100\n",
    "2>>1\n",
    "# 2 -- > 0010\n",
    "# 0001->1"
   ]
  },
  {
   "cell_type": "code",
   "execution_count": 22,
   "metadata": {},
   "outputs": [
    {
     "data": {
      "text/plain": [
       "101"
      ]
     },
     "execution_count": 22,
     "metadata": {},
     "output_type": "execute_result"
    }
   ],
   "source": [
    "a = 1\n",
    "a += 100# a= a+100\n",
    "a"
   ]
  },
  {
   "cell_type": "code",
   "execution_count": 24,
   "metadata": {},
   "outputs": [
    {
     "data": {
      "text/plain": [
       "False"
      ]
     },
     "execution_count": 24,
     "metadata": {},
     "output_type": "execute_result"
    }
   ],
   "source": [
    "arr = [1,2,3,4,5]\n",
    "50 in arr\n",
    "50 not in arr"
   ]
  },
  {
   "cell_type": "code",
   "execution_count": 28,
   "metadata": {},
   "outputs": [
    {
     "data": {
      "text/plain": [
       "140710163616608"
      ]
     },
     "execution_count": 28,
     "metadata": {},
     "output_type": "execute_result"
    }
   ],
   "source": [
    "2 is 3\n",
    "'abc' is 'abc'\n",
    "id(2)"
   ]
  },
  {
   "cell_type": "code",
   "execution_count": null,
   "metadata": {},
   "outputs": [],
   "source": []
  }
 ],
 "metadata": {
  "kernelspec": {
   "display_name": "Python 3",
   "language": "python",
   "name": "python3"
  },
  "language_info": {
   "codemirror_mode": {
    "name": "ipython",
    "version": 3
   },
   "file_extension": ".py",
   "mimetype": "text/x-python",
   "name": "python",
   "nbconvert_exporter": "python",
   "pygments_lexer": "ipython3",
   "version": "3.7.3"
  }
 },
 "nbformat": 4,
 "nbformat_minor": 2
}
