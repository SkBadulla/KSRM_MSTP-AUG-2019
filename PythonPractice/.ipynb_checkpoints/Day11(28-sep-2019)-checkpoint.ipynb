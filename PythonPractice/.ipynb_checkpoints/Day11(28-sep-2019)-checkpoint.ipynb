{
 "cells": [
  {
   "cell_type": "markdown",
   "metadata": {},
   "source": [
    "### Contact Application\n",
    "- create contact.txt\n",
    "- read valid name,mobile numbers from user then store in contact.txt(before storing perform validations using re)\n",
    "- define function to Display all contacts\n",
    "- define function to search a contact"
   ]
  },
  {
   "cell_type": "code",
   "execution_count": 27,
   "metadata": {},
   "outputs": [
    {
     "name": "stdout",
     "output_type": "stream",
     "text": [
      "Enter Name:badu\n",
      "Enter Mobile number:8956231047\n",
      "Contact has been creating.....\n"
     ]
    }
   ],
   "source": [
    "import re\n",
    "filepath = 'textFiles/contact.txt'\n",
    "\n",
    "def isValidName(name):\n",
    "    if re.search('^[a-zA-Z ]{3,30}$',name):\n",
    "        return True\n",
    "    return False\n",
    "def isValidPhNo(m_No):\n",
    "    if re.search('^[6-9][0-9]{9}$',m_No):\n",
    "        return True\n",
    "    return False\n",
    "    \n",
    "def createContact(name,phno):\n",
    "    if isValidName(name) and isValidPhNo(phno):\n",
    "        with open(filepath,'a') as fh:\n",
    "            fh.write(\"\\n\"+name+\"\\t\"+phno)\n",
    "            print(\"Contact has been creating.....\")\n",
    "    else:\n",
    "        print(\"Enter valid Name and Mobile number\")\n",
    "    return\n",
    "\n",
    "\n",
    "name = input(\"Enter Name:\")\n",
    "mobileno = input(\"Enter Mobile number:\")\n",
    "createContact(name,mobileno)\n",
    "#sValidPhNo('556230147')"
   ]
  },
  {
   "cell_type": "code",
   "execution_count": 28,
   "metadata": {},
   "outputs": [
    {
     "name": "stdout",
     "output_type": "stream",
     "text": [
      "\n",
      "abdulla\t9856230147\n",
      "raja\t7895623014\n",
      "badu\t8956231047\n"
     ]
    }
   ],
   "source": [
    "filepath = 'textFiles/contact.txt'\n",
    "def showContacts(filepath):\n",
    "    with open(filepath) as fh:\n",
    "        print(fh.read())\n",
    "showContacts(filepath)"
   ]
  },
  {
   "cell_type": "code",
   "execution_count": 30,
   "metadata": {},
   "outputs": [
    {
     "name": "stdout",
     "output_type": "stream",
     "text": [
      "Enter name:badu\n"
     ]
    },
    {
     "ename": "IndexError",
     "evalue": "list index out of range",
     "output_type": "error",
     "traceback": [
      "\u001b[1;31m---------------------------------------------------------------------------\u001b[0m",
      "\u001b[1;31mIndexError\u001b[0m                                Traceback (most recent call last)",
      "\u001b[1;32m<ipython-input-30-ecd872c7777a>\u001b[0m in \u001b[0;36m<module>\u001b[1;34m\u001b[0m\n\u001b[0;32m      7\u001b[0m                 \u001b[0mprint\u001b[0m\u001b[1;33m(\u001b[0m\u001b[0mline\u001b[0m\u001b[1;33m[\u001b[0m\u001b[1;36m1\u001b[0m\u001b[1;33m]\u001b[0m\u001b[1;33m)\u001b[0m\u001b[1;33m\u001b[0m\u001b[1;33m\u001b[0m\u001b[0m\n\u001b[0;32m      8\u001b[0m \u001b[0mname\u001b[0m \u001b[1;33m=\u001b[0m \u001b[0minput\u001b[0m\u001b[1;33m(\u001b[0m\u001b[1;34m\"Enter name:\"\u001b[0m\u001b[1;33m)\u001b[0m\u001b[1;33m\u001b[0m\u001b[1;33m\u001b[0m\u001b[0m\n\u001b[1;32m----> 9\u001b[1;33m \u001b[0msearchContact\u001b[0m\u001b[1;33m(\u001b[0m\u001b[0mname\u001b[0m\u001b[1;33m)\u001b[0m\u001b[1;33m\u001b[0m\u001b[1;33m\u001b[0m\u001b[0m\n\u001b[0m",
      "\u001b[1;32m<ipython-input-30-ecd872c7777a>\u001b[0m in \u001b[0;36msearchContact\u001b[1;34m(name)\u001b[0m\n\u001b[0;32m      4\u001b[0m         \u001b[1;32mfor\u001b[0m \u001b[0mline\u001b[0m \u001b[1;32min\u001b[0m \u001b[0mfh\u001b[0m\u001b[1;33m:\u001b[0m\u001b[1;33m\u001b[0m\u001b[1;33m\u001b[0m\u001b[0m\n\u001b[0;32m      5\u001b[0m             \u001b[0mline\u001b[0m \u001b[1;33m=\u001b[0m \u001b[0mline\u001b[0m\u001b[1;33m.\u001b[0m\u001b[0msplit\u001b[0m\u001b[1;33m(\u001b[0m\u001b[1;33m)\u001b[0m\u001b[1;33m\u001b[0m\u001b[1;33m\u001b[0m\u001b[0m\n\u001b[1;32m----> 6\u001b[1;33m             \u001b[1;32mif\u001b[0m \u001b[0mline\u001b[0m\u001b[1;33m[\u001b[0m\u001b[1;36m0\u001b[0m\u001b[1;33m]\u001b[0m \u001b[1;33m==\u001b[0m \u001b[0mname\u001b[0m\u001b[1;33m:\u001b[0m\u001b[1;33m\u001b[0m\u001b[1;33m\u001b[0m\u001b[0m\n\u001b[0m\u001b[0;32m      7\u001b[0m                 \u001b[0mprint\u001b[0m\u001b[1;33m(\u001b[0m\u001b[0mline\u001b[0m\u001b[1;33m[\u001b[0m\u001b[1;36m1\u001b[0m\u001b[1;33m]\u001b[0m\u001b[1;33m)\u001b[0m\u001b[1;33m\u001b[0m\u001b[1;33m\u001b[0m\u001b[0m\n\u001b[0;32m      8\u001b[0m \u001b[0mname\u001b[0m \u001b[1;33m=\u001b[0m \u001b[0minput\u001b[0m\u001b[1;33m(\u001b[0m\u001b[1;34m\"Enter name:\"\u001b[0m\u001b[1;33m)\u001b[0m\u001b[1;33m\u001b[0m\u001b[1;33m\u001b[0m\u001b[0m\n",
      "\u001b[1;31mIndexError\u001b[0m: list index out of range"
     ]
    }
   ],
   "source": [
    "filepath = 'textFiles/contact.txt'\n",
    "def searchContact(name):\n",
    "    with open(filepath,'r') as fh:\n",
    "        for line in fh:\n",
    "            line = line.split()\n",
    "            print(line)\n",
    "#             if line[0] == name:\n",
    "#                 print(line[1])\n",
    "name = input(\"Enter name:\")\n",
    "searchContact(name)"
   ]
  },
  {
   "cell_type": "markdown",
   "metadata": {},
   "source": [
    "### Marks\n",
    "- create marks.txt\n",
    "- defien a function to generate students Marks using random method\n",
    "- define function to disply all students marks\n",
    "- define function to find failed students count\n",
    "- define function to find passed students count\n",
    "- define function to find students count who got above 80 persontage"
   ]
  },
  {
   "cell_type": "code",
   "execution_count": null,
   "metadata": {},
   "outputs": [],
   "source": []
  }
 ],
 "metadata": {
  "kernelspec": {
   "display_name": "Python 3",
   "language": "python",
   "name": "python3"
  },
  "language_info": {
   "codemirror_mode": {
    "name": "ipython",
    "version": 3
   },
   "file_extension": ".py",
   "mimetype": "text/x-python",
   "name": "python",
   "nbconvert_exporter": "python",
   "pygments_lexer": "ipython3",
   "version": "3.7.3"
  }
 },
 "nbformat": 4,
 "nbformat_minor": 2
}
