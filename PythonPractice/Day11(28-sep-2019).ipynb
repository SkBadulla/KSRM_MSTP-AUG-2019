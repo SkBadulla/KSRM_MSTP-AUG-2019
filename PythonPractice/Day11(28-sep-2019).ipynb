{
 "cells": [
  {
   "cell_type": "markdown",
   "metadata": {},
   "source": [
    "### Contact Application\n",
    "- create contact.txt\n",
    "- read valid name,mobile numbers from user then store in contact.txt(before storing perform validations using re)\n",
    "- define function to Display all contacts\n",
    "- define function to search a contact"
   ]
  },
  {
   "cell_type": "code",
   "execution_count": 4,
   "metadata": {},
   "outputs": [
    {
     "name": "stdout",
     "output_type": "stream",
     "text": [
      "Enter Name:siva\n",
      "Enter Mobile number:7845120369\n",
      "Contact has been creating.....\n"
     ]
    }
   ],
   "source": [
    "import re\n",
    "filepath = 'textFiles/contact.txt'\n",
    "\n",
    "def isValidName(name):\n",
    "    if re.search('^[a-zA-Z ]{3,30}$',name):\n",
    "        return True\n",
    "    return False\n",
    "def isValidPhNo(m_No):\n",
    "    if re.search('^[6-9][0-9]{9}$',m_No):\n",
    "        return True\n",
    "    return False\n",
    "    \n",
    "def createContact(name,phno):\n",
    "    if isValidName(name) and isValidPhNo(phno):\n",
    "        with open(filepath,'a') as fh:\n",
    "            fh.write(\"\\n\"+name+\"\\t\"+phno)\n",
    "            print(\"Contact has been creating.....\")\n",
    "    else:\n",
    "        print(\"Enter valid Name and Mobile number\")\n",
    "    return\n",
    "\n",
    "\n",
    "name = input(\"Enter Name:\")\n",
    "mobileno = input(\"Enter Mobile number:\")\n",
    "createContact(name,mobileno)\n",
    "#sValidPhNo('556230147')"
   ]
  },
  {
   "cell_type": "code",
   "execution_count": 5,
   "metadata": {},
   "outputs": [
    {
     "name": "stdout",
     "output_type": "stream",
     "text": [
      "abdulla\t9856230147\n",
      "badu\t8956230147\n",
      "siva\t7845120369\n"
     ]
    }
   ],
   "source": [
    "filepath = 'textFiles/contact.txt'\n",
    "def showContacts(filepath):\n",
    "    with open(filepath) as fh:\n",
    "        print(fh.read())\n",
    "showContacts(filepath)"
   ]
  },
  {
   "cell_type": "code",
   "execution_count": 8,
   "metadata": {},
   "outputs": [
    {
     "name": "stdout",
     "output_type": "stream",
     "text": [
      "Enter name:gangi\n",
      "Contact not existed\n"
     ]
    }
   ],
   "source": [
    "filepath = 'textFiles/contact.txt'\n",
    "def searchContact(name):\n",
    "    flag = False\n",
    "    with open(filepath,'r') as fh:\n",
    "        for line in fh:\n",
    "            line = line.split()\n",
    "            #print(line)\n",
    "            if line[0] == name:\n",
    "                print(line[1])\n",
    "                flag = True\n",
    "    if not flag:\n",
    "        print(\"Contact not existed\")\n",
    "name = input(\"Enter name:\")\n",
    "searchContact(name)"
   ]
  },
  {
   "cell_type": "markdown",
   "metadata": {},
   "source": [
    "### Marks\n",
    "- create marks.txt\n",
    "- defien a function to generate students Marks using random method\n",
    "- define function to disply all students marks\n",
    "- define function to find failed students count\n",
    "- define function to find passed students count\n",
    "- define function to find students count who got above 80 persontage"
   ]
  },
  {
   "cell_type": "code",
   "execution_count": 11,
   "metadata": {},
   "outputs": [
    {
     "data": {
      "text/plain": [
       "84"
      ]
     },
     "execution_count": 11,
     "metadata": {},
     "output_type": "execute_result"
    }
   ],
   "source": [
    "import random\n",
    "random.randint(0,100)"
   ]
  },
  {
   "cell_type": "code",
   "execution_count": 14,
   "metadata": {},
   "outputs": [],
   "source": [
    "import random as rd\n",
    "filepath = 'textFiles/marks.txt'\n",
    "def generateMarks():\n",
    "    for i in range(60):\n",
    "        score = rd.randint(0,100)\n",
    "        with open(filepath,'a') as fh:\n",
    "            fh.write(str(score)+\"\\n\")\n",
    "generateMarks()"
   ]
  },
  {
   "cell_type": "code",
   "execution_count": 22,
   "metadata": {},
   "outputs": [
    {
     "name": "stdout",
     "output_type": "stream",
     "text": [
      "<class 'list'>\n",
      "1\n"
     ]
    }
   ],
   "source": [
    "l = [1,2,3,4]\n",
    "print(type(l))\n",
    "l = iter(l)\n",
    "print(next(l))\n"
   ]
  },
  {
   "cell_type": "code",
   "execution_count": 23,
   "metadata": {},
   "outputs": [
    {
     "data": {
      "text/plain": [
       "2"
      ]
     },
     "execution_count": 23,
     "metadata": {},
     "output_type": "execute_result"
    }
   ],
   "source": []
  },
  {
   "cell_type": "code",
   "execution_count": 27,
   "metadata": {},
   "outputs": [
    {
     "ename": "StopIteration",
     "evalue": "",
     "output_type": "error",
     "traceback": [
      "\u001b[1;31m---------------------------------------------------------------------------\u001b[0m",
      "\u001b[1;31mStopIteration\u001b[0m                             Traceback (most recent call last)",
      "\u001b[1;32m<ipython-input-27-cdc8a39da60d>\u001b[0m in \u001b[0;36m<module>\u001b[1;34m\u001b[0m\n\u001b[1;32m----> 1\u001b[1;33m \u001b[0mnext\u001b[0m\u001b[1;33m(\u001b[0m\u001b[0ml\u001b[0m\u001b[1;33m)\u001b[0m\u001b[1;33m\u001b[0m\u001b[1;33m\u001b[0m\u001b[0m\n\u001b[0m",
      "\u001b[1;31mStopIteration\u001b[0m: "
     ]
    }
   ],
   "source": []
  },
  {
   "cell_type": "code",
   "execution_count": 26,
   "metadata": {},
   "outputs": [
    {
     "data": {
      "text/plain": [
       "4"
      ]
     },
     "execution_count": 26,
     "metadata": {},
     "output_type": "execute_result"
    }
   ],
   "source": []
  },
  {
   "cell_type": "code",
   "execution_count": null,
   "metadata": {},
   "outputs": [],
   "source": []
  }
 ],
 "metadata": {
  "kernelspec": {
   "display_name": "Python 3",
   "language": "python",
   "name": "python3"
  },
  "language_info": {
   "codemirror_mode": {
    "name": "ipython",
    "version": 3
   },
   "file_extension": ".py",
   "mimetype": "text/x-python",
   "name": "python",
   "nbconvert_exporter": "python",
   "pygments_lexer": "ipython3",
   "version": "3.7.3"
  }
 },
 "nbformat": 4,
 "nbformat_minor": 2
}
